{
  "cells": [
    {
      "cell_type": "markdown",
      "metadata": {
        "id": "view-in-github",
        "colab_type": "text"
      },
      "source": [
        "<a href=\"https://colab.research.google.com/github/VemPrava/FMML_Projects_and_Labs/blob/main/Pravallika_FMML_M1L3.ipynb\" target=\"_parent\"><img src=\"https://colab.research.google.com/assets/colab-badge.svg\" alt=\"Open In Colab\"/></a>"
      ]
    },
    {
      "cell_type": "markdown",
      "metadata": {
        "id": "w3yfry25JgZK"
      },
      "source": [
        "# Data Augmentation\n",
        "\n",
        "FMML Module 1, Lab 3\n",
        "\n",
        "In this lab, we will see how augmentation of data samples help in improving the machine learning performance. Augmentation is the process of creating new data samples by making reasonable modifications to the original data samples. This is particularly useful when the size of the training data is small. We will use the MNISt dataset for this lab. We will also reuse functions from the previous labs."
      ]
    },
    {
      "cell_type": "code",
      "execution_count": 1,
      "metadata": {
        "id": "xZU8_elooqP0"
      },
      "outputs": [],
      "source": [
        "import numpy as np\n",
        "import matplotlib.pyplot as plt\n",
        "from keras.datasets import mnist\n",
        "from sklearn.utils.extmath import cartesian\n",
        "from skimage.transform import rotate, AffineTransform, warp\n",
        "\n",
        "rng = np.random.default_rng(seed=42)"
      ]
    },
    {
      "cell_type": "code",
      "execution_count": 2,
      "metadata": {
        "id": "gJvmWJ58ovx5",
        "colab": {
          "base_uri": "https://localhost:8080/"
        },
        "outputId": "683314f4-ef02-41c8-e1f5-d05f93a93dd2"
      },
      "outputs": [
        {
          "output_type": "stream",
          "name": "stdout",
          "text": [
            "Downloading data from https://storage.googleapis.com/tensorflow/tf-keras-datasets/mnist.npz\n",
            "\u001b[1m11490434/11490434\u001b[0m \u001b[32m━━━━━━━━━━━━━━━━━━━━\u001b[0m\u001b[37m\u001b[0m \u001b[1m0s\u001b[0m 0us/step\n"
          ]
        }
      ],
      "source": [
        "# loading the dataset\n",
        "(train_X, train_y), (test_X, test_y) = mnist.load_data()\n",
        "\n",
        "# normalizing the data\n",
        "train_X = train_X / 255\n",
        "test_X = test_X / 255\n",
        "\n",
        "# subsample from images and labels. Otherwise it will take too long!\n",
        "train_X = train_X[::1200, :, :].copy()\n",
        "train_y = train_y[::1200].copy()"
      ]
    },
    {
      "cell_type": "markdown",
      "metadata": {
        "id": "8XamH6z1Rt7S"
      },
      "source": [
        "Let us borrow a few functions from the previous labs:"
      ]
    },
    {
      "cell_type": "code",
      "execution_count": 4,
      "metadata": {
        "id": "Zk2W5_3BRLMS"
      },
      "outputs": [],
      "source": [
        "def NN1(traindata, trainlabel, query):\n",
        "    \"\"\"\n",
        "    This function takes in the training data, training labels and a query point\n",
        "    and returns the predicted label for the query point using the nearest neighbour algorithm\n",
        "\n",
        "    traindata: numpy array of shape (n,d) where n is the number of samples and d is the number of features\n",
        "    trainlabel: numpy array of shape (n,) where n is the number of samples\n",
        "    query: numpy array of shape (d,) where d is the number of features\n",
        "\n",
        "    returns: the predicted label for the query point which is the label of the training data which is closest to the query point\n",
        "    \"\"\"\n",
        "    diff = (\n",
        "        traindata - query\n",
        "    )  # find the difference between features. Numpy automatically takes care of the size here\n",
        "    sq = diff * diff  # square the differences\n",
        "    dist = sq.sum(1)  # add up the squares\n",
        "    label = trainlabel[np.argmin(dist)]\n",
        "    return label\n",
        "\n",
        "\n",
        "def NN(traindata, trainlabel, testdata):\n",
        "    \"\"\"\n",
        "    This function takes in the training data, training labels and test data\n",
        "    and returns the predicted labels for the test data using the nearest neighbour algorithm\n",
        "\n",
        "    traindata: numpy array of shape (n,d) where n is the number of samples and d is the number of features\n",
        "    trainlabel: numpy array of shape (n,) where n is the number of samples\n",
        "    testdata: numpy array of shape (m,d) where m is the number of test samples and d is the number of features\n",
        "\n",
        "    returns: the predicted labels for the test data which is the label of the training data which is closest to each test point\n",
        "    \"\"\"\n",
        "    traindata = traindata.reshape(-1, 28*28)\n",
        "    testdata = testdata.reshape(-1, 28*28)\n",
        "    predlabel = np.array([NN1(traindata, trainlabel, i) for i in testdata])\n",
        "    return predlabel\n",
        "\n",
        "\n",
        "def Accuracy(gtlabel, predlabel):\n",
        "    \"\"\"\n",
        "    This function takes in the ground-truth labels and predicted labels\n",
        "    and returns the accuracy of the classifier\n",
        "\n",
        "    gtlabel: numpy array of shape (n,) where n is the number of samples\n",
        "    predlabel: numpy array of shape (n,) where n is the number of samples.\n",
        "\n",
        "    returns: the accuracy of the classifier which is the number of correct predictions divided by the total number of predictions\n",
        "    \"\"\"\n",
        "    assert len(gtlabel) == len(\n",
        "        predlabel\n",
        "    ), \"Length of the ground-truth labels and predicted labels should be the same\"\n",
        "    correct = (\n",
        "        gtlabel == predlabel\n",
        "    ).sum()  # count the number of times the groundtruth label is equal to the predicted label.\n",
        "    return correct / len(gtlabel)"
      ]
    },
    {
      "cell_type": "markdown",
      "metadata": {
        "id": "eGiA3LmDSJZo"
      },
      "source": [
        "In this lab, we will use the image pixels themselves as features, instead of extracting features. Each image has 28*28 pixels, so we will flatten them to 784 pixels to use as features. Note that this is very compute intensive and will take a long time. Let us first check the baseline accuracy on the test set without any augmentations. We hope that adding augmentations will help us to get better results."
      ]
    },
    {
      "cell_type": "code",
      "execution_count": 5,
      "metadata": {
        "colab": {
          "base_uri": "https://localhost:8080/"
        },
        "id": "4tQvnoasRNEV",
        "outputId": "b7979b97-d78d-4833-8121-67d5839c75cd"
      },
      "outputs": [
        {
          "output_type": "stream",
          "name": "stdout",
          "text": [
            "Baseline accuracy without augmentation: 64.72 %\n"
          ]
        }
      ],
      "source": [
        "testpred = NN(train_X, train_y, test_X)\n",
        "print(\"Baseline accuracy without augmentation:\",\n",
        "      Accuracy(test_y, testpred)*100, \"%\")"
      ]
    },
    {
      "cell_type": "markdown",
      "metadata": {
        "id": "ZfkcMfhIZQ7U"
      },
      "source": [
        "Let us try to improve this accuracy using augmentations. When we create augmentations, we have to make sure that the changes reflect what will naturally occur in the dataset. For example, we should not add colour to our samples as an augmentation because they do not naturally occur. We should not also flip the images in MNIST, because flipped images have different meanings for digits. So, we will use the following augmentations:\n",
        "\n",
        "### Augmentation 1: Rotation\n",
        "\n",
        "Let us try rotating the image a little. We will use the `rotate` function from the `skimage` module. We will rotate the image by 10 degrees and -10 degrees. Rotation is a reasonable augmentation because the digit will still be recognizable even after rotation and is representative of the dataset."
      ]
    },
    {
      "cell_type": "code",
      "execution_count": 6,
      "metadata": {
        "colab": {
          "base_uri": "https://localhost:8080/",
          "height": 387
        },
        "id": "z5WolJ9fZE7L",
        "outputId": "4e7beae7-77b5-4def-d14d-61e6ffd8a5cb"
      },
      "outputs": [
        {
          "output_type": "display_data",
          "data": {
            "text/plain": [
              "<Figure size 1500x500 with 3 Axes>"
            ],
            "image/png": "[encoded data removed]"
          },
          "metadata": {}
        }
      ],
      "source": [
        "fig, axs = plt.subplots(1, 3, figsize=(15, 5))\n",
        "\n",
        "axs[0].imshow(train_X[2], cmap=\"gray\")\n",
        "axs[0].set_title(\"Original Image\")\n",
        "\n",
        "axs[1].imshow(rotate(train_X[2], 10), cmap=\"gray\")\n",
        "axs[1].set_title(\"Rotate +10 degrees\")\n",
        "\n",
        "axs[2].imshow(rotate(train_X[2], -10), cmap=\"gray\")\n",
        "axs[2].set_title(\"Rotate -10 degrees\")\n",
        "\n",
        "plt.show()"
      ]
    },
    {
      "cell_type": "markdown",
      "metadata": {
        "id": "KE33Yxgggu0c"
      },
      "source": [
        "After rotating, the the class of the image is still the same. Let us make a function to rotate multiple images by random angles. We want a slightly different image every time we run this function. So, we generate a random number between 0 and 1 and change it so that it lies between -constraint/2 and +constraint/2"
      ]
    },
    {
      "cell_type": "code",
      "execution_count": 7,
      "metadata": {
        "id": "vyM7pUV7Reze"
      },
      "outputs": [],
      "source": [
        "def augRotate(sample, angleconstraint):\n",
        "    \"\"\"\n",
        "    This function takes in a sample and an angle constraint and returns the augmented sample\n",
        "    by rotating the sample by a random angle within the angle constraint\n",
        "\n",
        "    sample: numpy array of shape (n,d) where n is the number of samples and d is the number of features\n",
        "    angleconstraint: the maximum angle by which the sample can be rotated\n",
        "\n",
        "    returns: the augmented sample which is the input sample rotated by a random angle within the angle constraint\n",
        "    \"\"\"\n",
        "    if angleconstraint == 0:\n",
        "        return sample\n",
        "    if len(sample.shape) == 2:\n",
        "        # make sure the sample is 3 dimensional\n",
        "        sample = np.expand_dims(sample, 0)\n",
        "    angle = rng.random(len(sample))  # generate random numbers for angles\n",
        "    # make the random angle constrained\n",
        "    angle = (angle - 0.5) * angleconstraint\n",
        "    nsample = sample.copy()  # preallocate the augmented array to make it faster\n",
        "    for ii in range(len(sample)):\n",
        "        nsample[ii] = rotate(sample[ii], angle[ii])\n",
        "    return np.squeeze(nsample)  # take care if the input had only one sample."
      ]
    },
    {
      "cell_type": "markdown",
      "metadata": {
        "id": "kDk-N5VNjar9"
      },
      "source": [
        "This function returns a slightly different image each time we call it. So we can increase the number of images in the sample by any multiple."
      ]
    },
    {
      "cell_type": "code",
      "execution_count": 10,
      "metadata": {
        "colab": {
          "base_uri": "https://localhost:8080/",
          "height": 259
        },
        "id": "Vw3O9zGFgI8K",
        "outputId": "5a9be815-de2c-4c18-b19e-9f12bce74ed2"
      },
      "outputs": [
        {
          "output_type": "display_data",
          "data": {
            "text/plain": [
              "<Figure size 1500x500 with 5 Axes>"
            ],
            "image/png": "[encoded data removed]"
          },
          "metadata": {}
        }
      ],
      "source": [
        "sample = train_X[20]\n",
        "angleconstraint = 70\n",
        "\n",
        "fig, axs = plt.subplots(1, 5, figsize=(15, 5))\n",
        "\n",
        "axs[0].imshow(sample, cmap=\"gray\")\n",
        "axs[0].set_title(\"Original Image\")\n",
        "\n",
        "axs[1].imshow(augRotate(sample, angleconstraint), cmap=\"gray\")\n",
        "axs[1].set_title(\"Aug. Sample 1\")\n",
        "\n",
        "axs[2].imshow(augRotate(sample, angleconstraint), cmap=\"gray\")\n",
        "axs[2].set_title(\"Aug. Sample 2\")\n",
        "\n",
        "axs[3].imshow(augRotate(sample, angleconstraint), cmap=\"gray\")\n",
        "axs[3].set_title(\"Aug. Sample 3\")\n",
        "\n",
        "axs[4].imshow(augRotate(sample, angleconstraint), cmap=\"gray\")\n",
        "axs[4].set_title(\"Aug. Sample 4\")\n",
        "\n",
        "plt.show()"
      ]
    },
    {
      "cell_type": "markdown",
      "metadata": {
        "id": "ytv3NxF-kgxN"
      },
      "source": [
        "Let us augment the whole dataset and see if this improves the test accuracy"
      ]
    },
    {
      "cell_type": "code",
      "execution_count": 11,
      "metadata": {
        "colab": {
          "base_uri": "https://localhost:8080/"
        },
        "id": "iNzNAoDBkRzj",
        "outputId": "a2fdb61b-ee74-40c8-c4b2-de9b3a3f3305"
      },
      "outputs": [
        {
          "output_type": "stream",
          "name": "stdout",
          "text": [
            "Accuracy after rotation augmentation: 66.75999999999999 %\n"
          ]
        }
      ],
      "source": [
        "# hyperparameters\n",
        "angleconstraint = 60\n",
        "naugmentations = 5\n",
        "\n",
        "# augment\n",
        "augdata = train_X  # we include the original images also in the augmented dataset\n",
        "auglabel = train_y\n",
        "for ii in range(naugmentations):\n",
        "    augdata = np.concatenate(\n",
        "        (augdata, augRotate(train_X, angleconstraint))\n",
        "    )  # concatenate the augmented data to the set\n",
        "    auglabel = np.concatenate(\n",
        "        (auglabel, train_y)\n",
        "    )  # the labels don't change when we augment\n",
        "\n",
        "# check the test accuracy\n",
        "testpred = NN(augdata, auglabel, test_X)\n",
        "print(\"Accuracy after rotation augmentation:\", Accuracy(test_y, testpred)*100, \"%\")"
      ]
    },
    {
      "cell_type": "markdown",
      "metadata": {
        "id": "E88Nt9s1p5R6"
      },
      "source": [
        "We can notice a 3-4% improvement compared to non-augmented version of the dataset!\n",
        "\n",
        "The angle constraint is a hyperparameter which we have to tune using a validation set. (Here we are not doing that for time constraints). Let us try a grid search to find the best angle constraint. We will try angles between 0 and 90 degrees. We can also try different multiples of the original dataset. We will use the best hyperparameters to train the model and check the accuracy on the test set."
      ]
    },
    {
      "cell_type": "code",
      "execution_count": 12,
      "metadata": {
        "colab": {
          "base_uri": "https://localhost:8080/"
        },
        "id": "aiaFRLREmGp6",
        "outputId": "b1faa3bd-c128-4622-f084-752e3230f4e5"
      },
      "outputs": [
        {
          "output_type": "stream",
          "name": "stdout",
          "text": [
            "Accuracy after rotation augmentation constrained by 0 degrees is 64.72 %\n",
            "Accuracy after rotation augmentation constrained by 10 degrees is 67.78999999999999 %\n",
            "Accuracy after rotation augmentation constrained by 20 degrees is 67.49000000000001 %\n",
            "Accuracy after rotation augmentation constrained by 30 degrees is 67.55 %\n",
            "Accuracy after rotation augmentation constrained by 40 degrees is 68.16 %\n",
            "Accuracy after rotation augmentation constrained by 50 degrees is 66.13 %\n",
            "Accuracy after rotation augmentation constrained by 60 degrees is 66.36 %\n",
            "Accuracy after rotation augmentation constrained by 70 degrees is 65.85 %\n",
            "Accuracy after rotation augmentation constrained by 80 degrees is 66.2 %\n",
            "Accuracy after rotation augmentation constrained by 90 degrees is 65.91 %\n"
          ]
        }
      ],
      "source": [
        "angleconstraints = [0, 10, 20, 30, 40, 50, 60, 70, 80, 90]  # the values we want to test\n",
        "accuracies = np.zeros(\n",
        "    len(angleconstraints), dtype=float\n",
        ")  # we will save the values here\n",
        "\n",
        "for ii in range(len(angleconstraints)):\n",
        "    # create the augmented dataset\n",
        "    augdata = train_X  # we include the original images also in the augmented dataset\n",
        "    auglabel = train_y\n",
        "    for jj in range(naugmentations):\n",
        "        augdata = np.concatenate(\n",
        "            (augdata, augRotate(train_X, angleconstraints[ii]))\n",
        "        )  # concatenate the augmented data to the set\n",
        "        auglabel = np.concatenate(\n",
        "            (auglabel, train_y)\n",
        "        )  # the labels don't change when we augment\n",
        "\n",
        "    # check the test accuracy\n",
        "    testpred = NN(augdata, auglabel, test_X)\n",
        "    accuracies[ii] = Accuracy(test_y, testpred)\n",
        "    print(\n",
        "        \"Accuracy after rotation augmentation constrained by\",\n",
        "        angleconstraints[ii],\n",
        "        \"degrees is\",\n",
        "        accuracies[ii]*100,\n",
        "        \"%\",\n",
        "        flush=True,\n",
        "    )"
      ]
    },
    {
      "cell_type": "markdown",
      "metadata": {
        "id": "2oVDRYP2rxob"
      },
      "source": [
        "Let us see the best value for angle constraint: (Ideally this should be done on validation set, not test set)"
      ]
    },
    {
      "cell_type": "code",
      "execution_count": null,
      "metadata": {
        "colab": {
          "base_uri": "https://localhost:8080/",
          "height": 482
        },
        "id": "LqthJa_pmMHz",
        "outputId": "acf44491-9664-465d-bb9f-e0ea04b5a25f"
      },
      "outputs": [
        {
          "output_type": "execute_result",
          "data": {
            "text/plain": [
              "<matplotlib.collections.PathCollection at 0x7a5b38da5960>"
            ]
          },
          "metadata": {},
          "execution_count": 10
        },
        {
          "output_type": "display_data",
          "data": {
            "text/plain": [
              "<Figure size 640x480 with 1 Axes>"
            ],
            "image/png": "[encoded data removed]"
          },
          "metadata": {}
        }
      ],
      "source": [
        "fig = plt.figure()\n",
        "ax = fig.add_axes([0.1, 0.1, 0.8, 0.8])\n",
        "# plot the variation of accuracy\n",
        "ax.plot(angleconstraints, accuracies)\n",
        "ax.set_xlabel(\"angle\")\n",
        "ax.set_ylabel(\"accuracy\")\n",
        "\n",
        "# plot the maximum accuracy\n",
        "maxind = np.argmax(accuracies)\n",
        "plt.scatter(angleconstraints[maxind], accuracies[maxind], c=\"red\")"
      ]
    },
    {
      "cell_type": "markdown",
      "metadata": {
        "id": "eJ8YuVfCuGTj"
      },
      "source": [
        "### Augmentation 2: Shear\n",
        "\n",
        "\n",
        "Let us try one more augmentation: shear. Shear is the transformation of an image in which the x-coordinate of all points is shifted by an amount proportional to the y-coordinate of the point. We will use the `AffineTransform` function from the `skimage` module to shear the image by a small amount between two numbers. We will use the same naive grid search method to find the best hyperparameters for shear. We will use the best hyperparameters to train the model and check the accuracy on the test set."
      ]
    },
    {
      "cell_type": "code",
      "execution_count": 14,
      "metadata": {
        "id": "pMiw46NLwssK"
      },
      "outputs": [],
      "source": [
        "def shear(sample, amount):\n",
        "    \"\"\"\n",
        "    This function takes in a sample and an amount and returns the augmented sample\n",
        "    by shearing the sample by the given amount\n",
        "\n",
        "    sample: numpy array of shape (n,d) where n is the number of samples and d is the number of features\n",
        "    amount: the amount by which the sample should be sheared\n",
        "\n",
        "    returns: the augmented sample which is the input sample sheared by the given amount\n",
        "    \"\"\"\n",
        "    tform = AffineTransform(shear=amount)\n",
        "    img = warp(sample, tform)\n",
        "\n",
        "    # Applying shear makes the digit off-center\n",
        "    # Since all images are centralized, we will do the same here\n",
        "    col = img.sum(0).nonzero()[0]\n",
        "    row = img.sum(1).nonzero()[0]\n",
        "    if len(col) > 0 and len(row) > 0:\n",
        "        xshift = int(sample.shape[0] / 2 - (row[0] + row[-1]) / 2)\n",
        "        yshift = int(sample.shape[1] / 2 - (col[0] + col[-1]) / 2)\n",
        "        img = np.roll(img, (xshift, yshift), (0, 1))\n",
        "    return img"
      ]
    },
    {
      "cell_type": "code",
      "execution_count": 15,
      "metadata": {
        "colab": {
          "base_uri": "https://localhost:8080/",
          "height": 306
        },
        "id": "4_u_EYpmnABK",
        "outputId": "199555ba-7d6b-4d82-bcf7-e5df52dcbad9"
      },
      "outputs": [
        {
          "output_type": "display_data",
          "data": {
            "text/plain": [
              "<Figure size 1500x500 with 4 Axes>"
            ],
            "image/png": "[encoded data removed]"
          },
          "metadata": {}
        }
      ],
      "source": [
        "sample = train_X[2]\n",
        "fig, axs = plt.subplots(1, 4, figsize=(15, 5))\n",
        "\n",
        "axs[0].imshow(sample, cmap=\"gray\")\n",
        "axs[0].set_title(\"Original Image\")\n",
        "\n",
        "axs[1].imshow(shear(sample, 0.2), cmap=\"gray\")\n",
        "axs[1].set_title(\"Amount = 0.2\")\n",
        "\n",
        "axs[2].imshow(shear(sample, 0.4), cmap=\"gray\")\n",
        "axs[2].set_title(\"Amount = 0.4\")\n",
        "\n",
        "axs[3].imshow(shear(sample, 0.6), cmap=\"gray\")\n",
        "axs[3].set_title(\"Amount = 0.6\")\n",
        "\n",
        "plt.show()"
      ]
    },
    {
      "cell_type": "markdown",
      "metadata": {
        "id": "lGnWMoyM2pK4"
      },
      "source": [
        "Create an augmentation function which applies a random shear according to the constraint we provide:"
      ]
    },
    {
      "cell_type": "code",
      "execution_count": 16,
      "metadata": {
        "id": "-qLDJyGytwP5"
      },
      "outputs": [],
      "source": [
        "def augShear(sample, shearconstraint):\n",
        "    \"\"\"\n",
        "    This function takes in a sample and a shear constraint and returns the augmented sample\n",
        "    by shearing the sample by a random amount within the shear constraint\n",
        "\n",
        "    sample: numpy array of shape (n,d) where n is the number of samples and d is the number of features\n",
        "    shearconstraint: the maximum shear by which the sample can be sheared\n",
        "\n",
        "    returns: the augmented sample which is the input sample sheared by a random amount within the shear constraint\n",
        "    \"\"\"\n",
        "    if shearconstraint == 0:\n",
        "        return sample\n",
        "    if len(sample.shape) == 2:\n",
        "        # make sure the sample is 3 dimensional\n",
        "        sample = np.expand_dims(sample, 0)\n",
        "    amt = rng.random(len(sample))  # generate random numbers for shear\n",
        "    amt = (amt - 0.5) * shearconstraint  # make the random shear constrained\n",
        "    nsample = sample.copy()  # preallocate the augmented array to make it faster\n",
        "    for ii in range(len(sample)):\n",
        "        nsample[ii] = shear(sample[ii], amt[ii])\n",
        "    return np.squeeze(nsample)  # take care if the input had only one sample."
      ]
    },
    {
      "cell_type": "markdown",
      "metadata": {
        "id": "s6lQcWW93suJ"
      },
      "source": [
        "Let us do a grid search to find the best shear constraint."
      ]
    },
    {
      "cell_type": "code",
      "execution_count": 17,
      "metadata": {
        "colab": {
          "base_uri": "https://localhost:8080/"
        },
        "id": "l_wrqPkrzBb_",
        "outputId": "4f03d7be-abdb-4011-c863-194b86d8c02f"
      },
      "outputs": [
        {
          "output_type": "stream",
          "name": "stdout",
          "text": [
            "Accuracy after shear augmentation constrained by 0 is 64.72 %\n",
            "Accuracy after shear augmentation constrained by 0.2 is 63.239999999999995 %\n",
            "Accuracy after shear augmentation constrained by 0.4 is 64.22 %\n",
            "Accuracy after shear augmentation constrained by 0.6 is 66.35 %\n",
            "Accuracy after shear augmentation constrained by 0.8 is 65.79 %\n",
            "Accuracy after shear augmentation constrained by 1.0 is 64.3 %\n",
            "Accuracy after shear augmentation constrained by 1.2 is 65.21000000000001 %\n",
            "Accuracy after shear augmentation constrained by 1.4 is 63.43 %\n",
            "Accuracy after shear augmentation constrained by 1.6 is 63.43 %\n",
            "Accuracy after shear augmentation constrained by 1.8 is 62.4 %\n",
            "Accuracy after shear augmentation constrained by 2.0 is 63.33 %\n"
          ]
        }
      ],
      "source": [
        "shearconstraints = [\n",
        "    0,\n",
        "    0.2,\n",
        "    0.4,\n",
        "    0.6,\n",
        "    0.8,\n",
        "    1.0,\n",
        "    1.2,\n",
        "    1.4,\n",
        "    1.6,\n",
        "    1.8,\n",
        "    2.0,\n",
        "]  # the values we want to test\n",
        "accuracies = np.zeros(\n",
        "    len(shearconstraints), dtype=float\n",
        ")  # we will save the values here\n",
        "\n",
        "for ii in range(len(shearconstraints)):\n",
        "    # create the augmented dataset\n",
        "    augdata = train_X  # we include the original images also in the augmented dataset\n",
        "    auglabel = train_y\n",
        "    for jj in range(naugmentations):\n",
        "        augdata = np.concatenate(\n",
        "            (augdata, augShear(train_X, shearconstraints[ii]))\n",
        "        )  # concatenate the augmented data to the set\n",
        "        auglabel = np.concatenate(\n",
        "            (auglabel, train_y)\n",
        "        )  # the labels don't change when we augment\n",
        "\n",
        "    # check the test accuracy\n",
        "    testpred = NN(augdata, auglabel, test_X)\n",
        "    accuracies[ii] = Accuracy(test_y, testpred)\n",
        "    print(\n",
        "        \"Accuracy after shear augmentation constrained by\",\n",
        "        shearconstraints[ii],\n",
        "        \"is\",\n",
        "        accuracies[ii]*100,\n",
        "        \"%\",\n",
        "        flush=True,\n",
        "    )"
      ]
    },
    {
      "cell_type": "code",
      "execution_count": 18,
      "metadata": {
        "colab": {
          "base_uri": "https://localhost:8080/",
          "height": 482
        },
        "id": "EKaH-YR-zVnA",
        "outputId": "bcd03c63-7cb8-4aa3-94b8-6ac48361f11e"
      },
      "outputs": [
        {
          "output_type": "execute_result",
          "data": {
            "text/plain": [
              "<matplotlib.collections.PathCollection at 0x7b7259c52c20>"
            ]
          },
          "metadata": {},
          "execution_count": 18
        },
        {
          "output_type": "display_data",
          "data": {
            "text/plain": [
              "<Figure size 640x480 with 1 Axes>"
            ],
            "image/png": "[encoded data removed]"
          },
          "metadata": {}
        }
      ],
      "source": [
        "fig = plt.figure()\n",
        "ax = fig.add_axes([0.1, 0.1, 0.8, 0.8])\n",
        "# plot the variation of accuracy\n",
        "ax.plot(shearconstraints, accuracies)\n",
        "ax.set_xlabel(\"angle\")\n",
        "ax.set_ylabel(\"accuracy\")\n",
        "\n",
        "# plot the maximum accuracy\n",
        "maxind = np.argmax(accuracies)\n",
        "plt.scatter(shearconstraints[maxind], accuracies[maxind], c=\"red\")"
      ]
    },
    {
      "cell_type": "markdown",
      "metadata": {
        "id": "ccfdbRcQ7Zgg"
      },
      "source": [
        "### Augmentation 3: Rotation + Shear\n",
        "\n",
        "\n",
        "\n",
        "We can do multiple augmentations at the same time. Here is a function to do both shear and rotation to the sample. In this case, we will have two hyperparameters."
      ]
    },
    {
      "cell_type": "code",
      "execution_count": 19,
      "metadata": {
        "id": "sh8S_Pxa0XCv"
      },
      "outputs": [],
      "source": [
        "def augRotateShear(sample, angleconstraint, shearconstraint):\n",
        "    \"\"\"\n",
        "    This function takes in a sample, an angle constraint and a shear constraint and returns the augmented sample\n",
        "    by rotating the sample by a random angle within the angle constraint and shearing the sample by a random amount within the shear constraint\n",
        "\n",
        "    sample: numpy array of shape (n,d) where n is the number of samples and d is the number of features\n",
        "    angleconstraint: the maximum angle by which the sample can be rotated\n",
        "    shearconstraint: the maximum shear by which the sample can be sheared\n",
        "\n",
        "    returns: the augmented sample which is the input sample rotated by a random angle within the angle constraint and sheared by a random amount within the shear constraint\n",
        "    \"\"\"\n",
        "    if len(sample.shape) == 2:\n",
        "        # make sure the sample is 3 dimensional\n",
        "        sample = np.expand_dims(sample, 0)\n",
        "    amt = rng.random(len(sample))  # generate random numbers for shear\n",
        "    amt = (amt - 0.5) * shearconstraint  # make the random shear constrained\n",
        "    angle = rng.random(len(sample))  # generate random numbers for angles\n",
        "    # make the random angle constrained\n",
        "    angle = (angle - 0.5) * angleconstraint\n",
        "    nsample = sample.copy()  # preallocate the augmented array to make it faster\n",
        "    for ii in range(len(sample)):\n",
        "        nsample[ii] = rotate(\n",
        "            shear(sample[ii], amt[ii]), angle[ii]\n",
        "        )  # first apply shear, then rotate\n",
        "    return np.squeeze(nsample)  # take care if the input had only one sample."
      ]
    },
    {
      "cell_type": "markdown",
      "metadata": {
        "id": "OGKyjjNx-NQ4"
      },
      "source": [
        "Since we have two hyperparameters, we have to do the grid search on a 2 dimensional matrix. We can use our previous experience to inform where to search for the best hyperparameters."
      ]
    },
    {
      "cell_type": "code",
      "execution_count": 20,
      "metadata": {
        "colab": {
          "base_uri": "https://localhost:8080/"
        },
        "id": "TJC45WRg0pOP",
        "outputId": "294d772b-de45-448f-a7a7-ce28ce2e0261"
      },
      "outputs": [
        {
          "output_type": "stream",
          "name": "stdout",
          "text": [
            "Accuracy after augmentation shear: 0.0 angle: 0.0 is 63.32 %\n",
            "Accuracy after augmentation shear: 0.0 angle: 10.0 is 62.580000000000005 %\n",
            "Accuracy after augmentation shear: 0.0 angle: 20.0 is 61.11 %\n",
            "Accuracy after augmentation shear: 0.0 angle: 30.0 is 62.56 %\n",
            "Accuracy after augmentation shear: 0.0 angle: 40.0 is 61.870000000000005 %\n",
            "Accuracy after augmentation shear: 0.0 angle: 50.0 is 61.339999999999996 %\n",
            "Accuracy after augmentation shear: 0.0 angle: 60.0 is 62.74999999999999 %\n",
            "Accuracy after augmentation shear: 0.2 angle: 0.0 is 63.36000000000001 %\n",
            "Accuracy after augmentation shear: 0.2 angle: 10.0 is 62.480000000000004 %\n",
            "Accuracy after augmentation shear: 0.2 angle: 20.0 is 63.04 %\n",
            "Accuracy after augmentation shear: 0.2 angle: 30.0 is 62.83 %\n",
            "Accuracy after augmentation shear: 0.2 angle: 40.0 is 63.27 %\n",
            "Accuracy after augmentation shear: 0.2 angle: 50.0 is 62.28 %\n",
            "Accuracy after augmentation shear: 0.2 angle: 60.0 is 62.760000000000005 %\n",
            "Accuracy after augmentation shear: 0.4 angle: 0.0 is 63.46000000000001 %\n",
            "Accuracy after augmentation shear: 0.4 angle: 10.0 is 61.86000000000001 %\n",
            "Accuracy after augmentation shear: 0.4 angle: 20.0 is 61.739999999999995 %\n",
            "Accuracy after augmentation shear: 0.4 angle: 30.0 is 60.72 %\n",
            "Accuracy after augmentation shear: 0.4 angle: 40.0 is 60.8 %\n",
            "Accuracy after augmentation shear: 0.4 angle: 50.0 is 61.309999999999995 %\n",
            "Accuracy after augmentation shear: 0.4 angle: 60.0 is 61.9 %\n",
            "Accuracy after augmentation shear: 0.6 angle: 0.0 is 63.41 %\n",
            "Accuracy after augmentation shear: 0.6 angle: 10.0 is 61.760000000000005 %\n",
            "Accuracy after augmentation shear: 0.6 angle: 20.0 is 63.56 %\n",
            "Accuracy after augmentation shear: 0.6 angle: 30.0 is 61.29 %\n",
            "Accuracy after augmentation shear: 0.6 angle: 40.0 is 64.75 %\n",
            "Accuracy after augmentation shear: 0.6 angle: 50.0 is 61.45 %\n",
            "Accuracy after augmentation shear: 0.6 angle: 60.0 is 63.690000000000005 %\n",
            "Accuracy after augmentation shear: 0.8 angle: 0.0 is 63.349999999999994 %\n",
            "Accuracy after augmentation shear: 0.8 angle: 10.0 is 62.519999999999996 %\n",
            "Accuracy after augmentation shear: 0.8 angle: 20.0 is 63.29 %\n",
            "Accuracy after augmentation shear: 0.8 angle: 30.0 is 61.160000000000004 %\n",
            "Accuracy after augmentation shear: 0.8 angle: 40.0 is 62.739999999999995 %\n",
            "Accuracy after augmentation shear: 0.8 angle: 50.0 is 62.470000000000006 %\n",
            "Accuracy after augmentation shear: 0.8 angle: 60.0 is 63.190000000000005 %\n",
            "Accuracy after augmentation shear: 1.0 angle: 0.0 is 63.38 %\n",
            "Accuracy after augmentation shear: 1.0 angle: 10.0 is 61.94 %\n",
            "Accuracy after augmentation shear: 1.0 angle: 20.0 is 63.1 %\n",
            "Accuracy after augmentation shear: 1.0 angle: 30.0 is 63.81 %\n",
            "Accuracy after augmentation shear: 1.0 angle: 40.0 is 59.63 %\n",
            "Accuracy after augmentation shear: 1.0 angle: 50.0 is 63.79 %\n",
            "Accuracy after augmentation shear: 1.0 angle: 60.0 is 64.19 %\n",
            "Accuracy after augmentation shear: 1.2 angle: 0.0 is 63.21 %\n",
            "Accuracy after augmentation shear: 1.2 angle: 10.0 is 62.19 %\n",
            "Accuracy after augmentation shear: 1.2 angle: 20.0 is 60.209999999999994 %\n",
            "Accuracy after augmentation shear: 1.2 angle: 30.0 is 64.07000000000001 %\n",
            "Accuracy after augmentation shear: 1.2 angle: 40.0 is 62.27 %\n",
            "Accuracy after augmentation shear: 1.2 angle: 50.0 is 64.42999999999999 %\n",
            "Accuracy after augmentation shear: 1.2 angle: 60.0 is 64.14999999999999 %\n",
            "Accuracy after augmentation shear: 1.4 angle: 0.0 is 63.41 %\n",
            "Accuracy after augmentation shear: 1.4 angle: 10.0 is 59.440000000000005 %\n",
            "Accuracy after augmentation shear: 1.4 angle: 20.0 is 62.31 %\n",
            "Accuracy after augmentation shear: 1.4 angle: 30.0 is 60.74 %\n",
            "Accuracy after augmentation shear: 1.4 angle: 40.0 is 61.79 %\n",
            "Accuracy after augmentation shear: 1.4 angle: 50.0 is 62.28 %\n",
            "Accuracy after augmentation shear: 1.4 angle: 60.0 is 59.03 %\n",
            "Accuracy after augmentation shear: 1.6 angle: 0.0 is 63.5 %\n",
            "Accuracy after augmentation shear: 1.6 angle: 10.0 is 64.0 %\n",
            "Accuracy after augmentation shear: 1.6 angle: 20.0 is 59.97 %\n",
            "Accuracy after augmentation shear: 1.6 angle: 30.0 is 61.59 %\n",
            "Accuracy after augmentation shear: 1.6 angle: 40.0 is 61.12 %\n",
            "Accuracy after augmentation shear: 1.6 angle: 50.0 is 60.529999999999994 %\n",
            "Accuracy after augmentation shear: 1.6 angle: 60.0 is 60.709999999999994 %\n"
          ]
        }
      ],
      "source": [
        "shearconstraints = [\n",
        "    0,\n",
        "    0.2,\n",
        "    0.4,\n",
        "    0.6,\n",
        "    0.8,\n",
        "    1.0,\n",
        "    1.2,\n",
        "    1.4,\n",
        "    1.6,\n",
        "]  # the values we want to test\n",
        "angleconstraints = [0, 10, 20, 30, 40, 50, 60]  # the values we want to test\n",
        "# cartesian product of both\n",
        "hyp = cartesian((shearconstraints, angleconstraints))\n",
        "\n",
        "accuracies = np.zeros(len(hyp), dtype=float)  # we will save the values here\n",
        "\n",
        "for ii in range(len(hyp)):\n",
        "    # create the augmented dataset\n",
        "    augdata = train_X  # we include the original images also in the augmented dataset\n",
        "    auglabel = train_y\n",
        "    for jj in range(naugmentations):\n",
        "        augdata = np.concatenate(\n",
        "            (augdata, augRotateShear(train_X, hyp[ii][0], hyp[ii][1]))\n",
        "        )  # concatenate the augmented data to the set\n",
        "        auglabel = np.concatenate(\n",
        "            (auglabel, train_y)\n",
        "        )  # the labels don't change when we augment\n",
        "\n",
        "    # check the test accuracy\n",
        "    testpred = NN(augdata, auglabel, test_X)\n",
        "    accuracies[ii] = Accuracy(test_y, testpred)\n",
        "    print(\n",
        "        \"Accuracy after augmentation shear:\",\n",
        "        hyp[ii][0],\n",
        "        \"angle:\",\n",
        "        hyp[ii][1],\n",
        "        \"is\",\n",
        "        accuracies[ii]*100,\n",
        "        \"%\",\n",
        "        flush=True,\n",
        "    )"
      ]
    },
    {
      "cell_type": "markdown",
      "metadata": {
        "id": "PT6CnvSDEX7a"
      },
      "source": [
        "Let us plot it two dimensionally to see which is the best value for the hyperparameters:"
      ]
    },
    {
      "cell_type": "code",
      "execution_count": null,
      "metadata": {
        "colab": {
          "base_uri": "https://localhost:8080/",
          "height": 482
        },
        "id": "jD2i7msI_cLd",
        "outputId": "d1dca4f4-a7de-48fc-da07-d91402c3691e"
      },
      "outputs": [
        {
          "output_type": "execute_result",
          "data": {
            "text/plain": [
              "<matplotlib.colorbar.Colorbar at 0x7a5b38ae4370>"
            ]
          },
          "metadata": {},
          "execution_count": 18
        },
        {
          "output_type": "display_data",
          "data": {
            "text/plain": [
              "<Figure size 640x480 with 2 Axes>"
            ],
            "image/png": "[encoded data removed]"
          },
          "metadata": {}
        }
      ],
      "source": [
        "fig = plt.figure()\n",
        "ax = fig.add_axes([0.1, 0.1, 0.8, 0.8])\n",
        "im = ax.imshow(\n",
        "    accuracies.reshape((len(shearconstraints), len(angleconstraints))), cmap=\"hot\"\n",
        ")\n",
        "ax.set_xlabel(\"Angle\")\n",
        "ax.set_ylabel(\"Shear\")\n",
        "ax.set_xticks(np.arange(len(angleconstraints)))\n",
        "ax.set_xticklabels(angleconstraints)\n",
        "ax.set_yticks(np.arange(len(shearconstraints)))\n",
        "ax.set_yticklabels(shearconstraints)\n",
        "plt.colorbar(im)"
      ]
    },
    {
      "cell_type": "markdown",
      "metadata": {
        "id": "OHcZWJiFJDMh"
      },
      "source": [
        "It seems that rotation and shear don't mix! The best accuracy is when rotation is zero."
      ]
    },
    {
      "cell_type": "markdown",
      "metadata": {
        "id": "PAasQo1C3x4A"
      },
      "source": [
        "## Questions\n",
        "Try these questions for better understanding. You may not be able to solve all of them.\n",
        "1. What is the best value for angle constraint and shear constraint you got? How much did the accuracy improve as compared to not using augmentations?\n",
        "2. Can you increase the accuracy by increasing the number of augmentations from each sample?\n",
        "3. Try implementing a few augmentations of your own and experimenting with them. A good reference is <a href=https://www.analyticsvidhya.com/blog/2019/12/image-augmentation-deep-learning-pytorch/>here. </a>\n",
        "4. Try combining various augmentations. What is the highest accuracy you can get? What is the smallest training dataset you can take and still get accuracy above 50%?\n",
        "\n",
        "Whenever you do any experiment, a good practice is to vary the hyperparameters gradually and create a graph of your results, like we did for gridsearch."
      ]
    },
    {
      "cell_type": "markdown",
      "source": [
        "> Exercise: Try to take 50 images of each digit and calculate the performance on test set."
      ],
      "metadata": {
        "id": "zu590B33-Xp_"
      }
    },
    {
      "cell_type": "code",
      "source": [
        "import numpy as np\n",
        "from keras.datasets import mnist\n",
        "from keras.utils import to_categorical\n",
        "from keras.models import Sequential\n",
        "from keras.layers import Dense, Conv2D, Flatten, MaxPooling2D\n",
        "from keras.preprocessing.image import img_to_array, array_to_img\n",
        "\n",
        "# Load the data\n",
        "(X_train, y_train), (X_test, y_test) = mnist.load_data()\n",
        "\n",
        "# Reshape the data\n",
        "X_train = X_train.reshape(X_train.shape[0], 28, 28, 1)\n",
        "X_test = X_test.reshape(X_test.shape[0], 28, 28, 1)\n",
        "\n",
        "# Normalize the data\n",
        "X_train = X_train.astype('float32') / 255\n",
        "X_test = X_test.astype('float32') / 255\n",
        "\n",
        "# One-hot encode the labels\n",
        "y_train = to_categorical(y_train)\n",
        "y_test = to_categorical(y_test)\n"
      ],
      "metadata": {
        "id": "__not7ZA6u7z"
      },
      "execution_count": 26,
      "outputs": []
    },
    {
      "cell_type": "markdown",
      "source": [
        "Image unit 50 images per digit code"
      ],
      "metadata": {
        "id": "hTWifyT7C68X"
      }
    },
    {
      "cell_type": "code",
      "source": [
        "# Subset the training data to 50 images per digit\n",
        "indices = []\n",
        "for digit in range(10):\n",
        "    digit_indices = np.where(np.argmax(y_train, axis=1) == digit)[0][:50]\n",
        "    indices.extend(digit_indices)\n",
        "\n",
        "X_train_50 = X_train[indices]\n",
        "y_train_50 = y_train[indices]\n",
        "\n",
        "# Define the model\n",
        "model = Sequential([\n",
        "    Conv2D(32, kernel_size=(3, 3), activation='relu', input_shape=(28, 28, 1)),\n",
        "    MaxPooling2D(pool_size=(2, 2)),\n",
        "    Flatten(),\n",
        "    Dense(128, activation='relu'),\n",
        "    Dense(10, activation='softmax')\n",
        "])\n",
        "\n",
        "model.compile(optimizer='adam', loss='categorical_crossentropy', metrics=['accuracy'])\n",
        "\n",
        "# Train the model\n",
        "model.fit(X_train_50, y_train_50, validation_data=(X_test, y_test), epochs=10)\n",
        "\n",
        "# Evaluate the model\n",
        "accuracy_50 = model.evaluate(X_test, y_test, verbose=0)[1]\n",
        "print(f\"Accuracy with 50 images per digit: {accuracy_50:.4f}\")"
      ],
      "metadata": {
        "colab": {
          "base_uri": "https://localhost:8080/"
        },
        "id": "2JU29PixC6p7",
        "outputId": "2b897539-edf8-4b61-a016-c25521bf9d2b"
      },
      "execution_count": 28,
      "outputs": [
        {
          "output_type": "stream",
          "name": "stdout",
          "text": [
            "Epoch 1/10\n",
            "\u001b[1m16/16\u001b[0m \u001b[32m━━━━━━━━━━━━━━━━━━━━\u001b[0m\u001b[37m\u001b[0m \u001b[1m4s\u001b[0m 121ms/step - accuracy: 0.3785 - loss: 1.9454 - val_accuracy: 0.7414 - val_loss: 0.9415\n",
            "Epoch 2/10\n",
            "\u001b[1m16/16\u001b[0m \u001b[32m━━━━━━━━━━━━━━━━━━━━\u001b[0m\u001b[37m\u001b[0m \u001b[1m2s\u001b[0m 102ms/step - accuracy: 0.8533 - loss: 0.5923 - val_accuracy: 0.8109 - val_loss: 0.5890\n",
            "Epoch 3/10\n",
            "\u001b[1m16/16\u001b[0m \u001b[32m━━━━━━━━━━━━━━━━━━━━\u001b[0m\u001b[37m\u001b[0m \u001b[1m3s\u001b[0m 101ms/step - accuracy: 0.8934 - loss: 0.3109 - val_accuracy: 0.8430 - val_loss: 0.5056\n",
            "Epoch 4/10\n",
            "\u001b[1m16/16\u001b[0m \u001b[32m━━━━━━━━━━━━━━━━━━━━\u001b[0m\u001b[37m\u001b[0m \u001b[1m2s\u001b[0m 101ms/step - accuracy: 0.9313 - loss: 0.1985 - val_accuracy: 0.8506 - val_loss: 0.4868\n",
            "Epoch 5/10\n",
            "\u001b[1m16/16\u001b[0m \u001b[32m━━━━━━━━━━━━━━━━━━━━\u001b[0m\u001b[37m\u001b[0m \u001b[1m2s\u001b[0m 100ms/step - accuracy: 0.9616 - loss: 0.1359 - val_accuracy: 0.8660 - val_loss: 0.4469\n",
            "Epoch 6/10\n",
            "\u001b[1m16/16\u001b[0m \u001b[32m━━━━━━━━━━━━━━━━━━━━\u001b[0m\u001b[37m\u001b[0m \u001b[1m2s\u001b[0m 118ms/step - accuracy: 0.9775 - loss: 0.0979 - val_accuracy: 0.8641 - val_loss: 0.4742\n",
            "Epoch 7/10\n",
            "\u001b[1m16/16\u001b[0m \u001b[32m━━━━━━━━━━━━━━━━━━━━\u001b[0m\u001b[37m\u001b[0m \u001b[1m3s\u001b[0m 178ms/step - accuracy: 0.9949 - loss: 0.0587 - val_accuracy: 0.8730 - val_loss: 0.4473\n",
            "Epoch 8/10\n",
            "\u001b[1m16/16\u001b[0m \u001b[32m━━━━━━━━━━━━━━━━━━━━\u001b[0m\u001b[37m\u001b[0m \u001b[1m4s\u001b[0m 100ms/step - accuracy: 0.9949 - loss: 0.0465 - val_accuracy: 0.8660 - val_loss: 0.4835\n",
            "Epoch 9/10\n",
            "\u001b[1m16/16\u001b[0m \u001b[32m━━━━━━━━━━━━━━━━━━━━\u001b[0m\u001b[37m\u001b[0m \u001b[1m2s\u001b[0m 100ms/step - accuracy: 1.0000 - loss: 0.0329 - val_accuracy: 0.8697 - val_loss: 0.4678\n",
            "Epoch 10/10\n",
            "\u001b[1m16/16\u001b[0m \u001b[32m━━━━━━━━━━━━━━━━━━━━\u001b[0m\u001b[37m\u001b[0m \u001b[1m3s\u001b[0m 102ms/step - accuracy: 1.0000 - loss: 0.0193 - val_accuracy: 0.8718 - val_loss: 0.4860\n",
            "Accuracy with 50 images per digit: 0.8718\n"
          ]
        }
      ]
    },
    {
      "cell_type": "code",
      "source": [
        "indices = []\n",
        "for digit in range(10):\n",
        "    digit_indices = np.where(np.argmax(y_train, axis=1) == digit)[0][:50]\n",
        "    indices.extend(digit_indices)\n",
        "\n",
        "X_train_50 = X_train[indices]\n",
        "y_train_50 = y_train[indices]"
      ],
      "metadata": {
        "id": "uggpmzs2Q6Zl"
      },
      "execution_count": 44,
      "outputs": []
    },
    {
      "cell_type": "markdown",
      "source": [
        "Implimentation of augmentation\n"
      ],
      "metadata": {
        "id": "ku0qCedvDs7Y"
      }
    },
    {
      "cell_type": "code",
      "source": [
        "import numpy as np\n",
        "from keras.preprocessing.image import array_to_img, img_to_array\n",
        "from scipy.ndimage import rotate, shift\n",
        "\n",
        "def rotate_image(image, angle):\n",
        "    return rotate(image, angle, reshape=False)\n",
        "\n",
        "def shear_image(image, shear_factor):\n",
        "    transform_matrix = np.array([[1, shear_factor, 0], [0, 1, 0], [0, 0, 1]])\n",
        "    return np.dot(transform_matrix, np.array([image.shape[0], image.shape[1], 1]))\n",
        "\n",
        "def augment_image(image, angle=0, shear_factor=0):\n",
        "    image = rotate_image(image, angle)\n",
        "    if shear_factor != 0:\n",
        "        image = shear_image(image, shear_factor)\n",
        "    return image"
      ],
      "metadata": {
        "id": "pq12dDxfDsjI"
      },
      "execution_count": 29,
      "outputs": []
    },
    {
      "cell_type": "code",
      "source": [
        "import numpy as np\n",
        "from keras.preprocessing.image import array_to_img, img_to_array\n",
        "from scipy.ndimage import rotate, shift, affine_transform\n",
        "\n",
        "def rotate_image(image, angle):\n",
        "    return rotate(image, angle, reshape=False)\n",
        "\n",
        "def shear_image(image, shear_factor):\n",
        "    # Use affine_transform for shearing\n",
        "    transform_matrix = np.array([[1, shear_factor, 0], [0, 1, 0]])\n",
        "    return affine_transform(image, transform_matrix)\n",
        "\n",
        "def augment_image(image, angle=0, shear_factor=0):\n",
        "    image = rotate_image(image, angle)\n",
        "    if shear_factor != 0:\n",
        "        image = shear_image(image, shear_factor)\n",
        "    return image"
      ],
      "metadata": {
        "id": "UmnPiQCfD4sr"
      },
      "execution_count": 32,
      "outputs": []
    },
    {
      "cell_type": "code",
      "source": [
        "import numpy as np\n",
        "from keras.datasets import mnist\n",
        "from keras.utils import to_categorical\n",
        "\n",
        "# Load and prepare the data\n",
        "(X_train, y_train), (X_test, y_test) = mnist.load_data()\n",
        "X_train = X_train.reshape(X_train.shape[0], 28, 28, 1).astype('float32') / 255\n",
        "X_test = X_test.reshape(X_test.shape[0], 28, 28, 1).astype('float32') / 255\n",
        "y_train = to_categorical(y_train)\n",
        "y_test = to_categorical(y_test)\n",
        "\n",
        "# Subset the training data to 50 images per digit\n",
        "indices = []\n",
        "for digit in range(10):\n",
        "    digit_indices = np.where(np.argmax(y_train, axis=1) == digit)[0][:50]\n",
        "    indices.extend(digit_indices)\n",
        "\n",
        "X_train_50 = X_train[indices]\n",
        "y_train_50 = y_train[indices]\n"
      ],
      "metadata": {
        "id": "Aa0FHZE8FxWV"
      },
      "execution_count": 36,
      "outputs": []
    },
    {
      "cell_type": "code",
      "source": [
        "from keras.models import Sequential\n",
        "from keras.layers import Dense, Conv2D, Flatten, MaxPooling2D\n",
        "\n",
        "# Define the model\n",
        "model = Sequential([\n",
        "    Conv2D(32, kernel_size=(3, 3), activation='relu', input_shape=(28, 28, 1)),\n",
        "    MaxPooling2D(pool_size=(2, 2)),\n",
        "    Flatten(),\n",
        "    Dense(128, activation='relu'),\n",
        "    Dense(10, activation='softmax')\n",
        "])\n",
        "\n",
        "model.compile(optimizer='adam', loss='categorical_crossentropy', metrics=['accuracy'])\n"
      ],
      "metadata": {
        "id": "QkPFWFVHL-FL"
      },
      "execution_count": 37,
      "outputs": []
    },
    {
      "cell_type": "code",
      "source": [
        "from scipy.ndimage import rotate, shift\n",
        "\n",
        "# Define the augmentation functions\n",
        "def rotate_image(image, angle):\n",
        "    return rotate(image, angle, reshape=False)\n",
        "\n",
        "def shear_image(image, shear_factor):\n",
        "    # Updated shear implementation using shift\n",
        "    shift_matrix = np.array([[1, shear_factor], [0, 1]])\n",
        "    # Apply shear using affine transformation\n",
        "    return shift(image, (shift_matrix[0, 1], shift_matrix[1, 0], 0), mode='nearest')\n",
        "\n",
        "def augment_image(image, angle=0, shear_factor=0):\n",
        "    image = rotate_image(image, angle)\n",
        "    if shear_factor != 0:\n",
        "        image = shear_image(image, shear_factor)\n",
        "    return image\n"
      ],
      "metadata": {
        "id": "ePZVPTDAMEP-"
      },
      "execution_count": 38,
      "outputs": []
    },
    {
      "cell_type": "code",
      "source": [
        "# Parameters for augmentation\n",
        "best_accuracy = 0\n",
        "best_angle = 0\n",
        "best_shear = 0\n",
        "\n",
        "# Grid search for the best augmentation parameters\n",
        "for angle in range(0, 30, 5):  # Example range of angles\n",
        "    for shear in range(0, 30, 5):  # Example range of shear factors\n",
        "        X_train_augmented = np.array([augment_image(X_train_50[i], angle, shear) for i in range(X_train_50.shape[0])])\n",
        "\n",
        "        # Train the model\n",
        "        model.fit(X_train_augmented, y_train_50, validation_data=(X_test, y_test), epochs=10, verbose=0)\n",
        "\n",
        "        accuracy = model.evaluate(X_test, y_test, verbose=0)[1]\n",
        "        if accuracy > best_accuracy:\n",
        "            best_accuracy = accuracy\n",
        "            best_angle = angle\n",
        "            best_shear = shear\n",
        "\n",
        "print(f\"Best Accuracy: {best_accuracy:.4f} with angle={best_angle} and shear={best_shear}\")\n"
      ],
      "metadata": {
        "colab": {
          "base_uri": "https://localhost:8080/"
        },
        "id": "JAc7vmgDMHpR",
        "outputId": "fadbad99-7db5-4d45-bcdd-b2746f913119"
      },
      "execution_count": 47,
      "outputs": [
        {
          "output_type": "stream",
          "name": "stdout",
          "text": [
            "Best Accuracy: 0.8803 with angle=5 and shear=0\n"
          ]
        }
      ]
    },
    {
      "cell_type": "markdown",
      "source": [
        "As indicated the best possible accuracy is 88.03% and this is achieved by change in angle by only 5degrees and keeping the shear zero for taking 50 images of each digit and training a model."
      ],
      "metadata": {
        "id": "7noM0cp9Vk88"
      }
    },
    {
      "cell_type": "code",
      "source": [
        "# Manually generate more augmented data\n",
        "X_train_augmented_list = []\n",
        "y_train_augmented_list = []\n",
        "\n",
        "for angle in [best_angle, best_angle + 10]:\n",
        "    for shear in [best_shear, best_shear + 10]:\n",
        "        augmented_images = np.array([augment_image(img_to_array(X_train_50[i]), angle, shear) for i in range(X_train_50.shape[0])])\n",
        "        X_train_augmented_list.append(augmented_images)\n",
        "        y_train_augmented_list.append(y_train_50)\n",
        "\n",
        "# Combine augmented data\n",
        "X_train_augmented = np.concatenate(X_train_augmented_list, axis=0)\n",
        "y_train_augmented = np.concatenate(y_train_augmented_list, axis=0)\n",
        "\n",
        "# Train the model with the augmented data\n",
        "model.fit(X_train_augmented, y_train_augmented, validation_data=(X_test, y_test), epochs=10)\n",
        "\n",
        "# Evaluate the model\n",
        "increased_aug_accuracy = model.evaluate(X_test, y_test, verbose=0)[1]\n",
        "print(f\"Accuracy with increased augmentations: {increased_aug_accuracy:.4f}\")\n"
      ],
      "metadata": {
        "colab": {
          "base_uri": "https://localhost:8080/"
        },
        "id": "7zM8wHNgPE4R",
        "outputId": "7abf58d5-e060-4e8e-bc3e-5fe95fdb04b8"
      },
      "execution_count": 40,
      "outputs": [
        {
          "output_type": "stream",
          "name": "stdout",
          "text": [
            "Epoch 1/10\n",
            "\u001b[1m63/63\u001b[0m \u001b[32m━━━━━━━━━━━━━━━━━━━━\u001b[0m\u001b[37m\u001b[0m \u001b[1m2s\u001b[0m 37ms/step - accuracy: 0.8759 - loss: 0.5877 - val_accuracy: 0.8349 - val_loss: 0.8227\n",
            "Epoch 2/10\n",
            "\u001b[1m63/63\u001b[0m \u001b[32m━━━━━━━━━━━━━━━━━━━━\u001b[0m\u001b[37m\u001b[0m \u001b[1m3s\u001b[0m 37ms/step - accuracy: 0.9938 - loss: 0.0356 - val_accuracy: 0.8656 - val_loss: 0.6893\n",
            "Epoch 3/10\n",
            "\u001b[1m63/63\u001b[0m \u001b[32m━━━━━━━━━━━━━━━━━━━━\u001b[0m\u001b[37m\u001b[0m \u001b[1m2s\u001b[0m 36ms/step - accuracy: 1.0000 - loss: 0.0051 - val_accuracy: 0.8674 - val_loss: 0.6895\n",
            "Epoch 4/10\n",
            "\u001b[1m63/63\u001b[0m \u001b[32m━━━━━━━━━━━━━━━━━━━━\u001b[0m\u001b[37m\u001b[0m \u001b[1m4s\u001b[0m 60ms/step - accuracy: 1.0000 - loss: 0.0027 - val_accuracy: 0.8684 - val_loss: 0.6908\n",
            "Epoch 5/10\n",
            "\u001b[1m63/63\u001b[0m \u001b[32m━━━━━━━━━━━━━━━━━━━━\u001b[0m\u001b[37m\u001b[0m \u001b[1m5s\u001b[0m 56ms/step - accuracy: 1.0000 - loss: 0.0018 - val_accuracy: 0.8689 - val_loss: 0.6922\n",
            "Epoch 6/10\n",
            "\u001b[1m63/63\u001b[0m \u001b[32m━━━━━━━━━━━━━━━━━━━━\u001b[0m\u001b[37m\u001b[0m \u001b[1m3s\u001b[0m 45ms/step - accuracy: 1.0000 - loss: 0.0016 - val_accuracy: 0.8696 - val_loss: 0.6937\n",
            "Epoch 7/10\n",
            "\u001b[1m63/63\u001b[0m \u001b[32m━━━━━━━━━━━━━━━━━━━━\u001b[0m\u001b[37m\u001b[0m \u001b[1m6s\u001b[0m 54ms/step - accuracy: 1.0000 - loss: 0.0015 - val_accuracy: 0.8698 - val_loss: 0.6953\n",
            "Epoch 8/10\n",
            "\u001b[1m63/63\u001b[0m \u001b[32m━━━━━━━━━━━━━━━━━━━━\u001b[0m\u001b[37m\u001b[0m \u001b[1m4s\u001b[0m 36ms/step - accuracy: 1.0000 - loss: 0.0013 - val_accuracy: 0.8707 - val_loss: 0.6963\n",
            "Epoch 9/10\n",
            "\u001b[1m63/63\u001b[0m \u001b[32m━━━━━━━━━━━━━━━━━━━━\u001b[0m\u001b[37m\u001b[0m \u001b[1m3s\u001b[0m 37ms/step - accuracy: 1.0000 - loss: 9.1143e-04 - val_accuracy: 0.8711 - val_loss: 0.6979\n",
            "Epoch 10/10\n",
            "\u001b[1m63/63\u001b[0m \u001b[32m━━━━━━━━━━━━━━━━━━━━\u001b[0m\u001b[37m\u001b[0m \u001b[1m3s\u001b[0m 36ms/step - accuracy: 1.0000 - loss: 9.5941e-04 - val_accuracy: 0.8718 - val_loss: 0.6999\n",
            "Accuracy with increased augmentations: 0.8718\n"
          ]
        }
      ]
    },
    {
      "cell_type": "markdown",
      "source": [
        "It can be seen that the accuracy decreased when more augmentations were added from 88% to 87%. This maybe due to the changes in the shear values."
      ],
      "metadata": {
        "id": "DOTof5O4WTBy"
      }
    },
    {
      "cell_type": "markdown",
      "source": [],
      "metadata": {
        "id": "3-gfhr3ZWAVD"
      }
    },
    {
      "cell_type": "code",
      "source": [
        "def flip_image(image):\n",
        "    return np.flip(image, axis=1)\n",
        "\n",
        "def add_noise(image):\n",
        "    noise = np.random.normal(0, 0.1, image.shape)\n",
        "    return np.clip(image + noise, 0., 1.)\n",
        "\n",
        "# Apply custom augmentations\n",
        "X_train_custom_augmented = np.array([add_noise(flip_image(img_to_array(X_train_50[i]))) for i in range(X_train_50.shape[0])])\n",
        "\n",
        "# Train the model\n",
        "model.fit(X_train_custom_augmented, y_train_50, validation_data=(X_test, y_test), epochs=10)\n",
        "\n",
        "# Evaluate the model\n",
        "custom_aug_accuracy = model.evaluate(X_test, y_test, verbose=0)[1]\n",
        "print(f\"Accuracy with custom augmentations: {custom_aug_accuracy:.4f}\")\n"
      ],
      "metadata": {
        "colab": {
          "base_uri": "https://localhost:8080/"
        },
        "id": "_rMY0FBTPfW7",
        "outputId": "bf483bf3-a4b9-41c3-a44b-a9cff71046c1"
      },
      "execution_count": 41,
      "outputs": [
        {
          "output_type": "stream",
          "name": "stdout",
          "text": [
            "Epoch 1/10\n",
            "\u001b[1m16/16\u001b[0m \u001b[32m━━━━━━━━━━━━━━━━━━━━\u001b[0m\u001b[37m\u001b[0m \u001b[1m2s\u001b[0m 105ms/step - accuracy: 0.4966 - loss: 3.1100 - val_accuracy: 0.7924 - val_loss: 0.7934\n",
            "Epoch 2/10\n",
            "\u001b[1m16/16\u001b[0m \u001b[32m━━━━━━━━━━━━━━━━━━━━\u001b[0m\u001b[37m\u001b[0m \u001b[1m2s\u001b[0m 100ms/step - accuracy: 0.8891 - loss: 0.3580 - val_accuracy: 0.7386 - val_loss: 0.9675\n",
            "Epoch 3/10\n",
            "\u001b[1m16/16\u001b[0m \u001b[32m━━━━━━━━━━━━━━━━━━━━\u001b[0m\u001b[37m\u001b[0m \u001b[1m4s\u001b[0m 182ms/step - accuracy: 0.9544 - loss: 0.1372 - val_accuracy: 0.7266 - val_loss: 1.0447\n",
            "Epoch 4/10\n",
            "\u001b[1m16/16\u001b[0m \u001b[32m━━━━━━━━━━━━━━━━━━━━\u001b[0m\u001b[37m\u001b[0m \u001b[1m2s\u001b[0m 112ms/step - accuracy: 0.9881 - loss: 0.0632 - val_accuracy: 0.7179 - val_loss: 1.1113\n",
            "Epoch 5/10\n",
            "\u001b[1m16/16\u001b[0m \u001b[32m━━━━━━━━━━━━━━━━━━━━\u001b[0m\u001b[37m\u001b[0m \u001b[1m2s\u001b[0m 100ms/step - accuracy: 0.9992 - loss: 0.0278 - val_accuracy: 0.7225 - val_loss: 1.1263\n",
            "Epoch 6/10\n",
            "\u001b[1m16/16\u001b[0m \u001b[32m━━━━━━━━━━━━━━━━━━━━\u001b[0m\u001b[37m\u001b[0m \u001b[1m3s\u001b[0m 103ms/step - accuracy: 1.0000 - loss: 0.0153 - val_accuracy: 0.7176 - val_loss: 1.1627\n",
            "Epoch 7/10\n",
            "\u001b[1m16/16\u001b[0m \u001b[32m━━━━━━━━━━━━━━━━━━━━\u001b[0m\u001b[37m\u001b[0m \u001b[1m2s\u001b[0m 100ms/step - accuracy: 1.0000 - loss: 0.0125 - val_accuracy: 0.7133 - val_loss: 1.1998\n",
            "Epoch 8/10\n",
            "\u001b[1m16/16\u001b[0m \u001b[32m━━━━━━━━━━━━━━━━━━━━\u001b[0m\u001b[37m\u001b[0m \u001b[1m2s\u001b[0m 102ms/step - accuracy: 1.0000 - loss: 0.0121 - val_accuracy: 0.7122 - val_loss: 1.2347\n",
            "Epoch 9/10\n",
            "\u001b[1m16/16\u001b[0m \u001b[32m━━━━━━━━━━━━━━━━━━━━\u001b[0m\u001b[37m\u001b[0m \u001b[1m4s\u001b[0m 183ms/step - accuracy: 1.0000 - loss: 0.0094 - val_accuracy: 0.7128 - val_loss: 1.2419\n",
            "Epoch 10/10\n",
            "\u001b[1m16/16\u001b[0m \u001b[32m━━━━━━━━━━━━━━━━━━━━\u001b[0m\u001b[37m\u001b[0m \u001b[1m2s\u001b[0m 103ms/step - accuracy: 1.0000 - loss: 0.0075 - val_accuracy: 0.7108 - val_loss: 1.2668\n",
            "Accuracy with custom augmentations: 0.7108\n"
          ]
        }
      ]
    },
    {
      "cell_type": "markdown",
      "source": [
        "The further addition of Gaussian Noise and Flipping as custom augmentations reduced the accuracy of the model as these may distract further the true values of prediction of the test data."
      ],
      "metadata": {
        "id": "qLJHaFrXWxpF"
      }
    },
    {
      "cell_type": "code",
      "source": [
        "# Combine various augmentations\n",
        "X_train_combined_augmented = []\n",
        "for i in range(X_train_50.shape[0]):\n",
        "    img = img_to_array(X_train_50[i])\n",
        "    img = augment_image(img, best_angle, best_shear)\n",
        "    img = flip_image(img)\n",
        "    img = add_noise(img)\n",
        "    X_train_combined_augmented.append(img)\n",
        "\n",
        "X_train_combined_augmented = np.array(X_train_combined_augmented)\n",
        "\n",
        "# Train the model with combined augmentations\n",
        "model.fit(X_train_combined_augmented, y_train_50, validation_data=(X_test, y_test), epochs=10)\n",
        "\n",
        "# Evaluate the model\n",
        "combined_aug_accuracy = model.evaluate(X_test, y_test, verbose=0)[1]\n",
        "print(f\"Accuracy with combined augmentations: {combined_aug_accuracy:.4f}\")\n"
      ],
      "metadata": {
        "colab": {
          "base_uri": "https://localhost:8080/"
        },
        "id": "ho0_LPwdPfIt",
        "outputId": "451f46ac-2e4b-4953-caf4-18af5e965547"
      },
      "execution_count": 42,
      "outputs": [
        {
          "output_type": "stream",
          "name": "stdout",
          "text": [
            "Epoch 1/10\n",
            "\u001b[1m16/16\u001b[0m \u001b[32m━━━━━━━━━━━━━━━━━━━━\u001b[0m\u001b[37m\u001b[0m \u001b[1m2s\u001b[0m 104ms/step - accuracy: 1.0000 - loss: 0.0161 - val_accuracy: 0.7116 - val_loss: 1.2630\n",
            "Epoch 2/10\n",
            "\u001b[1m16/16\u001b[0m \u001b[32m━━━━━━━━━━━━━━━━━━━━\u001b[0m\u001b[37m\u001b[0m \u001b[1m3s\u001b[0m 133ms/step - accuracy: 1.0000 - loss: 0.0092 - val_accuracy: 0.7097 - val_loss: 1.2794\n",
            "Epoch 3/10\n",
            "\u001b[1m16/16\u001b[0m \u001b[32m━━━━━━━━━━━━━━━━━━━━\u001b[0m\u001b[37m\u001b[0m \u001b[1m3s\u001b[0m 177ms/step - accuracy: 1.0000 - loss: 0.0080 - val_accuracy: 0.7076 - val_loss: 1.3175\n",
            "Epoch 4/10\n",
            "\u001b[1m16/16\u001b[0m \u001b[32m━━━━━━━━━━━━━━━━━━━━\u001b[0m\u001b[37m\u001b[0m \u001b[1m2s\u001b[0m 108ms/step - accuracy: 1.0000 - loss: 0.0066 - val_accuracy: 0.7058 - val_loss: 1.3391\n",
            "Epoch 5/10\n",
            "\u001b[1m16/16\u001b[0m \u001b[32m━━━━━━━━━━━━━━━━━━━━\u001b[0m\u001b[37m\u001b[0m \u001b[1m2s\u001b[0m 101ms/step - accuracy: 1.0000 - loss: 0.0054 - val_accuracy: 0.7034 - val_loss: 1.3572\n",
            "Epoch 6/10\n",
            "\u001b[1m16/16\u001b[0m \u001b[32m━━━━━━━━━━━━━━━━━━━━\u001b[0m\u001b[37m\u001b[0m \u001b[1m2s\u001b[0m 100ms/step - accuracy: 1.0000 - loss: 0.0052 - val_accuracy: 0.7025 - val_loss: 1.3806\n",
            "Epoch 7/10\n",
            "\u001b[1m16/16\u001b[0m \u001b[32m━━━━━━━━━━━━━━━━━━━━\u001b[0m\u001b[37m\u001b[0m \u001b[1m3s\u001b[0m 100ms/step - accuracy: 1.0000 - loss: 0.0045 - val_accuracy: 0.7010 - val_loss: 1.3900\n",
            "Epoch 8/10\n",
            "\u001b[1m16/16\u001b[0m \u001b[32m━━━━━━━━━━━━━━━━━━━━\u001b[0m\u001b[37m\u001b[0m \u001b[1m3s\u001b[0m 101ms/step - accuracy: 1.0000 - loss: 0.0039 - val_accuracy: 0.6999 - val_loss: 1.4052\n",
            "Epoch 9/10\n",
            "\u001b[1m16/16\u001b[0m \u001b[32m━━━━━━━━━━━━━━━━━━━━\u001b[0m\u001b[37m\u001b[0m \u001b[1m4s\u001b[0m 164ms/step - accuracy: 1.0000 - loss: 0.0033 - val_accuracy: 0.6986 - val_loss: 1.4180\n",
            "Epoch 10/10\n",
            "\u001b[1m16/16\u001b[0m \u001b[32m━━━━━━━━━━━━━━━━━━━━\u001b[0m\u001b[37m\u001b[0m \u001b[1m2s\u001b[0m 101ms/step - accuracy: 1.0000 - loss: 0.0029 - val_accuracy: 0.6982 - val_loss: 1.4288\n",
            "Accuracy with combined augmentations: 0.6982\n"
          ]
        }
      ]
    },
    {
      "cell_type": "markdown",
      "source": [
        "Combining further augmentations reduced the accuracy of the model"
      ],
      "metadata": {
        "id": "ksqjiZNvXOkj"
      }
    },
    {
      "cell_type": "code",
      "source": [
        "smallest_dataset_size = 50\n",
        "accuracy_threshold = 0.5\n",
        "current_accuracy = 0\n",
        "\n",
        "while current_accuracy < accuracy_threshold:\n",
        "    smallest_dataset_size += 10\n",
        "    X_train_small = X_train_50[:smallest_dataset_size]\n",
        "    y_train_small = y_train_50[:smallest_dataset_size]\n",
        "\n",
        "    X_train_small_augmented = np.array([augment_image(img_to_array(X_train_small[i]), best_angle, best_shear) for i in range(X_train_small.shape[0])])\n",
        "\n",
        "    # Train the model\n",
        "    model.fit(X_train_small_augmented, y_train_small, validation_data=(X_test, y_test), epochs=10, verbose=0)\n",
        "\n",
        "    current_accuracy = model.evaluate(X_test, y_test, verbose=0)[1]\n",
        "\n",
        "print(f\"Smallest dataset size for >50% accuracy: {smallest_dataset_size}\")\n"
      ],
      "metadata": {
        "colab": {
          "base_uri": "https://localhost:8080/"
        },
        "id": "uaMSDemdQBsO",
        "outputId": "16df39eb-7517-4aeb-d414-0c4b6cefb3a7"
      },
      "execution_count": 43,
      "outputs": [
        {
          "output_type": "stream",
          "name": "stdout",
          "text": [
            "Smallest dataset size for >50% accuracy: 60\n"
          ]
        }
      ]
    },
    {
      "cell_type": "markdown",
      "source": [
        "This depicts that with just 60 images per digit, the model after improving by augmentation can generalize well enough to achieve more than half accuracy on the test set. Likely, even a relatively small dataset, when combined with effective data augmentation techniques, can provide sufficient information for the model to perform reasonably well."
      ],
      "metadata": {
        "id": "ukAOBThkXioA"
      }
    }
  ],
  "metadata": {
    "colab": {
      "provenance": [],
      "include_colab_link": true
    },
    "kernelspec": {
      "display_name": "Python 3",
      "name": "python3"
    },
    "language_info": {
      "codemirror_mode": {
        "name": "ipython",
        "version": 3
      },
      "file_extension": ".py",
      "mimetype": "text/x-python",
      "name": "python",
      "nbconvert_exporter": "python",
      "pygments_lexer": "ipython3",
      "version": "3.10.10"
    }
  },
  "nbformat": 4,
  "nbformat_minor": 0
}